{
 "cells": [
  {
   "cell_type": "markdown",
   "metadata": {},
   "source": [
    " print is used display the variable\n"
   ]
  },
  {
   "cell_type": "code",
   "execution_count": 1,
   "metadata": {},
   "outputs": [
    {
     "name": "stdout",
     "output_type": "stream",
     "text": [
      "10\n",
      "20\n"
     ]
    }
   ],
   "source": [
    "a=10\n",
    "b=20\n",
    "print(a)\n",
    "print(b)"
   ]
  },
  {
   "cell_type": "code",
   "execution_count": 2,
   "metadata": {},
   "outputs": [
    {
     "name": "stdout",
     "output_type": "stream",
     "text": [
      "20\n",
      "40\n",
      "Hello Python\n",
      "60\n",
      "Hi, How are you?\n"
     ]
    }
   ],
   "source": [
    "a=20\n",
    "b=40\n",
    "c='Hello Python'\n",
    "d=60\n",
    "e='Hi, How are you?'\n",
    "print(a)\n",
    "print(b)\n",
    "print(c)\n",
    "print(d)\n",
    "print(e)"
   ]
  },
  {
   "cell_type": "markdown",
   "metadata": {},
   "source": [
    "Printing result with string"
   ]
  },
  {
   "cell_type": "code",
   "execution_count": 3,
   "metadata": {},
   "outputs": [
    {
     "name": "stdout",
     "output_type": "stream",
     "text": [
      "the result of x + y is 50\n"
     ]
    }
   ],
   "source": [
    "x=20\n",
    "y=30\n",
    "result=x+y\n",
    "print(\"the result of x + y is\",result)"
   ]
  },
  {
   "cell_type": "code",
   "execution_count": 4,
   "metadata": {},
   "outputs": [
    {
     "name": "stdout",
     "output_type": "stream",
     "text": [
      "My name is karthik . My age is 24\n"
     ]
    }
   ],
   "source": [
    "name='karthik'\n",
    "age=24\n",
    "print('My name is',name,'.','My age is',age)"
   ]
  },
  {
   "cell_type": "markdown",
   "metadata": {},
   "source": [
    "Print format method"
   ]
  },
  {
   "cell_type": "code",
   "execution_count": 5,
   "metadata": {},
   "outputs": [
    {
     "name": "stdout",
     "output_type": "stream",
     "text": [
      "the addition of 10 and 20 is 30\n"
     ]
    }
   ],
   "source": [
    "num1=10\n",
    "num2=20\n",
    "add=num1+num2\n",
    "print('the addition of {} and {} is {}'.format(num1,num2,add))"
   ]
  },
  {
   "cell_type": "code",
   "execution_count": 6,
   "metadata": {},
   "outputs": [
    {
     "name": "stdout",
     "output_type": "stream",
     "text": [
      "Hi, My name is karthik and my age is 24\n"
     ]
    }
   ],
   "source": [
    "name='karthik'\n",
    "age=24\n",
    "print('Hi, My name is {} and my age is {}'.format(name,age))"
   ]
  },
  {
   "cell_type": "code",
   "execution_count": 7,
   "metadata": {},
   "outputs": [
    {
     "name": "stdout",
     "output_type": "stream",
     "text": [
      "The average of 144 , 156 and 167 is 355.6666666666667 or 355.67\n"
     ]
    }
   ],
   "source": [
    "num1=144\n",
    "num2=156\n",
    "num3=167\n",
    "avg=num1+num2+num3/3\n",
    "avg1=round(num1+num2+num3/3,2)\n",
    "print('The average of {} , {} and {} is {} or {}'.format(num1,num2,num3,avg,avg1))"
   ]
  },
  {
   "cell_type": "markdown",
   "metadata": {},
   "source": [
    "More short format meythod(f string method)"
   ]
  },
  {
   "cell_type": "code",
   "execution_count": 8,
   "metadata": {},
   "outputs": [
    {
     "name": "stdout",
     "output_type": "stream",
     "text": [
      "The addition of 33 and 45 is 78\n"
     ]
    }
   ],
   "source": [
    "num1=33\n",
    "num2=45\n",
    "add=num1+num2\n",
    "print(f'The addition of {num1} and {num2} is {add}')"
   ]
  },
  {
   "cell_type": "code",
   "execution_count": 9,
   "metadata": {},
   "outputs": [
    {
     "name": "stdout",
     "output_type": "stream",
     "text": [
      "Hi, My name is Karthik, and i am 24 year old, from hyderabad.\n"
     ]
    }
   ],
   "source": [
    "name='Karthik'\n",
    "age=24\n",
    "city='hyderabad'\n",
    "print(f'Hi, My name is {name}, and i am {age} year old, from {city}.')\n"
   ]
  },
  {
   "cell_type": "code",
   "execution_count": 10,
   "metadata": {},
   "outputs": [
    {
     "name": "stdout",
     "output_type": "stream",
     "text": [
      "The addition of 22 and 33 is 55\n",
      "The addition of 22 and 33 is 55\n",
      "The addition of 22 and 33 is 55\n"
     ]
    }
   ],
   "source": [
    "num1=22\n",
    "num2=33\n",
    "add=num1+num2\n",
    "print('The addition of',num1,'and',num2,'is',add)\n",
    "\n",
    "print('The addition of {} and {} is {}'.format(num1,num2,add))\n",
    "\n",
    "print(f'The addition of {num1} and {num2} is {add}')\n"
   ]
  },
  {
   "cell_type": "markdown",
   "metadata": {},
   "source": [
    "end statement"
   ]
  },
  {
   "cell_type": "code",
   "execution_count": 11,
   "metadata": {},
   "outputs": [
    {
     "name": "stdout",
     "output_type": "stream",
     "text": [
      "Hello Good morning\n"
     ]
    }
   ],
   "source": [
    "print('Hello', end=' ')\n",
    "print('Good morning')"
   ]
  },
  {
   "cell_type": "code",
   "execution_count": 12,
   "metadata": {},
   "outputs": [
    {
     "name": "stdout",
     "output_type": "stream",
     "text": [
      "Hi, I am Karthik\n"
     ]
    }
   ],
   "source": [
    "print('Hi,', end=' ')\n",
    "print('I am Karthik')"
   ]
  },
  {
   "cell_type": "markdown",
   "metadata": {},
   "source": [
    "seperator\n"
   ]
  },
  {
   "cell_type": "code",
   "execution_count": 13,
   "metadata": {},
   "outputs": [
    {
     "name": "stdout",
     "output_type": "stream",
     "text": [
      "Hi@I am Lakshmi Karthik Reddy@and I am 24 years old\n",
      "Hi,Hello,Hola,Arigatho\n",
      "3 .\n",
      "3.\n"
     ]
    }
   ],
   "source": [
    "print('Hi','I am Lakshmi Karthik Reddy','and I am 24 years old',sep='@')\n",
    "\n",
    "print('Hi','Hello','Hola','Arigatho',sep=',')\n",
    "\n",
    "print('3','.')\n",
    "\n",
    "print('3','.',sep='')"
   ]
  }
 ],
 "metadata": {
  "kernelspec": {
   "display_name": "Python 3",
   "language": "python",
   "name": "python3"
  },
  "language_info": {
   "codemirror_mode": {
    "name": "ipython",
    "version": 3
   },
   "file_extension": ".py",
   "mimetype": "text/x-python",
   "name": "python",
   "nbconvert_exporter": "python",
   "pygments_lexer": "ipython3",
   "version": "3.11.9"
  }
 },
 "nbformat": 4,
 "nbformat_minor": 2
}
